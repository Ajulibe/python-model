{
 "cells": [
  {
   "cell_type": "code",
   "execution_count": 6,
   "id": "d2a8664e",
   "metadata": {},
   "outputs": [],
   "source": [
    "import pandas as pd\n",
    "from loan_prediction import preprocessing as p"
   ]
  },
  {
   "cell_type": "code",
   "execution_count": 8,
   "id": "880afb24",
   "metadata": {},
   "outputs": [],
   "source": [
    "def build_model(features):\n",
    "    target=features[['Loan_Status']]\n",
    "    features = features.drop(['Loan_Status'],axis=1)\n",
    "    features_train, features_test, target_train, target_test = p.split_data(features, target)\n",
    "    features_train = p.fill_missing(features_train)\n",
    "    features_train = p.model_preprocessing_train(features_train)\n",
    "    p.add_model(features_train, target_train)\n",
    "    eva=p.model_evaluation(features_test,target_test)\n",
    "    return eva"
   ]
  }
 ],
 "metadata": {
  "kernelspec": {
   "display_name": "Python 3 (ipykernel)",
   "language": "python",
   "name": "python3"
  },
  "language_info": {
   "codemirror_mode": {
    "name": "ipython",
    "version": 3
   },
   "file_extension": ".py",
   "mimetype": "text/x-python",
   "name": "python",
   "nbconvert_exporter": "python",
   "pygments_lexer": "ipython3",
   "version": "3.9.11"
  }
 },
 "nbformat": 4,
 "nbformat_minor": 5
}
