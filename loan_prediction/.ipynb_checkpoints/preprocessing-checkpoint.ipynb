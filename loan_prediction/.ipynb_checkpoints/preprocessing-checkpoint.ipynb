{
 "cells": [
  {
   "cell_type": "code",
   "execution_count": 17,
   "id": "4c9150a4",
   "metadata": {},
   "outputs": [],
   "source": [
    "import pandas as pd\n",
    "import numpy as np\n",
    "import joblib\n",
    "from sklearn.model_selection import train_test_split\n",
    "from sklearn.preprocessing import OrdinalEncoder\n",
    "from sklearn.preprocessing import StandardScaler\n",
    "from sklearn.neighbors import KNeighborsClassifier\n",
    "from sklearn.metrics import accuracy_score"
   ]
  },
  {
   "cell_type": "code",
   "execution_count": 18,
   "id": "72a7d21c",
   "metadata": {},
   "outputs": [],
   "source": [
    "def model_preprocessing_train(feature):\n",
    "    feature = feature.replace({'Dependents':'3+'},'0')\n",
    "    feature['TotalIncome']=feature['ApplicantIncome']+feature['CoapplicantIncome']\n",
    "    feature=feature.drop(['Loan_ID','ApplicantIncome','CoapplicantIncome','Loan_Status'],axis=1)\n",
    "    numerical_feature = get_numerical_features(feature)\n",
    "    categorical_feature = get_categorical_features(feature)\n",
    "    add_encoder(categorical_feature)\n",
    "    categorical_feature = encode(categorical_feature)\n",
    "    feature = concate_num_cat(categorical_feature, numerical_feature)\n",
    "    feature = feature_selection(feature)\n",
    "    add_scaler(feature)\n",
    "    feature = scale(feature)\n",
    "    return feature"
   ]
  },
  {
   "cell_type": "code",
   "execution_count": 19,
   "id": "f813e580",
   "metadata": {},
   "outputs": [],
   "source": [
    "def add_model(feature, target):\n",
    "    model=KNeighborsClassifier(n_neighbors=5)\n",
    "    model.fit(feature,target.values.ravel())\n",
    "    joblib.dump(model,'../models/model')"
   ]
  },
  {
   "cell_type": "code",
   "execution_count": 20,
   "id": "c390e30b",
   "metadata": {},
   "outputs": [],
   "source": [
    "def scale(features):\n",
    "    scale_feature=joblib.load('../models/scaler')\n",
    "    features = scale_feature.transform(features)\n",
    "    return features"
   ]
  },
  {
   "cell_type": "code",
   "execution_count": 21,
   "id": "f4b8f737",
   "metadata": {},
   "outputs": [],
   "source": [
    "def add_scaler(feature):\n",
    "    scale= StandardScaler()\n",
    "    scale.fit(feature)\n",
    "    joblib.dump(scale,'../models/scaler')"
   ]
  },
  {
   "cell_type": "code",
   "execution_count": 22,
   "id": "daebdc79",
   "metadata": {},
   "outputs": [],
   "source": [
    "def feature_selection(feature):\n",
    "    feature =feature[['Self_Employed','Property_Area','TotalIncome','Loan_Amount_Term','Credit_History']]\n",
    "    return feature"
   ]
  },
  {
   "cell_type": "code",
   "execution_count": 23,
   "id": "a3bc9d35",
   "metadata": {},
   "outputs": [],
   "source": [
    "def concate_num_cat(categorical_feature, numerical_feature):\n",
    "    categorical_feature.index = numerical_feature.index\n",
    "    feature = pd.concat([categorical_feature, numerical_feature], axis=1)\n",
    "    return feature"
   ]
  },
  {
   "cell_type": "code",
   "execution_count": 24,
   "id": "375669aa",
   "metadata": {},
   "outputs": [],
   "source": [
    "def encode(categorical_feature):\n",
    "    encode=joblib.load('../models/encoder')\n",
    "    categorical_feature = encode.transform(categorical_feature)\n",
    "    categorical_feature = pd.DataFrame(categorical_feature, columns = ['Gender','Married','Education','Self_Employed','Property_Area'])\n",
    "    return categorical_feature"
   ]
  },
  {
   "cell_type": "code",
   "execution_count": 25,
   "id": "a0a14634",
   "metadata": {},
   "outputs": [],
   "source": [
    "def add_encoder(categorical_feature):\n",
    "    encode=OrdinalEncoder(handle_unknown='use_encoded_value',unknown_value=5)\n",
    "    encode.fit(categorical_feature)\n",
    "    joblib.dump(encode,'../models/encoder')"
   ]
  },
  {
   "cell_type": "code",
   "execution_count": 26,
   "id": "b8524711",
   "metadata": {},
   "outputs": [],
   "source": [
    "def get_numerical_features(feature):\n",
    "    numerical_feature=feature[['LoanAmount','TotalIncome','Dependents','Loan_Amount_Term','Credit_History']]\n",
    "    return numerical_feature"
   ]
  },
  {
   "cell_type": "code",
   "execution_count": 27,
   "id": "ee781b59",
   "metadata": {},
   "outputs": [],
   "source": [
    "def get_categorical_features(feature):\n",
    "    categorical_feature=feature[['Gender','Married','Education','Self_Employed','Property_Area']]\n",
    "    return categorical_feature"
   ]
  },
  {
   "cell_type": "code",
   "execution_count": 28,
   "id": "b2fd7e6b",
   "metadata": {},
   "outputs": [],
   "source": [
    "def fill_missing(features):\n",
    "    features['LoanAmount']=features['LoanAmount'].fillna(features['LoanAmount'].mean())\n",
    "    features['Self_Employed']=features['Self_Employed'].fillna('No')\n",
    "    features['Gender']=features['Gender'].fillna('Male')\n",
    "    features['Dependents']=features['Dependents'].fillna(\"0\")\n",
    "    features['Married']=features['Married'].fillna('yes')\n",
    "    features['Loan_Amount_Term']=features['Loan_Amount_Term'].fillna(\"360.0\")\n",
    "    features['Credit_History']=features['Credit_History'].fillna(\"1.0\")\n",
    "    return features"
   ]
  },
  {
   "cell_type": "code",
   "execution_count": 29,
   "id": "bc1aef11",
   "metadata": {},
   "outputs": [],
   "source": [
    "def split_data(features, target):\n",
    "    features_train, features_test, target_train, target_test= train_test_split(features,target,random_state=42,test_size=0.33)\n",
    "    return features_train, features_test, target_train, target_test"
   ]
  },
  {
   "cell_type": "code",
   "execution_count": 30,
   "id": "0ff64f07",
   "metadata": {},
   "outputs": [],
   "source": [
    "def model_preprocessing(feature):\n",
    "    feature = feature.replace({'Dependents':'3+'},'0')\n",
    "    feature['TotalIncome']=feature['ApplicantIncome']+feature['CoapplicantIncome']\n",
    "    feature = feature.drop(['Loan_ID','ApplicantIncome','CoapplicantIncome','Loan_Status'],axis=1)\n",
    "    numerical_feature = get_numerical_features(feature)\n",
    "    categorical_feature = get_categorical_features(feature)\n",
    "    categorical_feature = encode(categorical_feature)\n",
    "    feature = concate_num_cat(categorical_feature, numerical_feature)\n",
    "    feature = feature_selection(feature)\n",
    "    feature = scale(feature)\n",
    "    return feature"
   ]
  },
  {
   "cell_type": "code",
   "execution_count": 31,
   "id": "434d77ad",
   "metadata": {},
   "outputs": [],
   "source": [
    "def compute_accuracy(target_test, target_prediction):\n",
    "    return accuracy_score(target_test, target_prediction)"
   ]
  },
  {
   "cell_type": "code",
   "execution_count": 32,
   "id": "22c4e999",
   "metadata": {},
   "outputs": [],
   "source": [
    "def model_evaluation(feature_test, target_test):\n",
    "    feature_test = fill_missing(feature_test)\n",
    "    feature_test= model_preprocessing(feature_test)\n",
    "    Knnmodel=joblib.load('../models/model')\n",
    "    y_pred=Knnmodel.predict(feature_test)\n",
    "    target_prediction = pd.DataFrame(y_pred,columns=['Loan_status'])\n",
    "    rmse=compute_accuracy(target_test,target_prediction)\n",
    "    return rmse"
   ]
  }
 ],
 "metadata": {
  "kernelspec": {
   "display_name": "Python 3 (ipykernel)",
   "language": "python",
   "name": "python3"
  },
  "language_info": {
   "codemirror_mode": {
    "name": "ipython",
    "version": 3
   },
   "file_extension": ".py",
   "mimetype": "text/x-python",
   "name": "python",
   "nbconvert_exporter": "python",
   "pygments_lexer": "ipython3",
   "version": "3.9.11"
  }
 },
 "nbformat": 4,
 "nbformat_minor": 5
}
