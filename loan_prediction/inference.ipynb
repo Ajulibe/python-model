{
 "cells": [
  {
   "cell_type": "code",
   "execution_count": 7,
   "id": "9bfbd578",
   "metadata": {},
   "outputs": [],
   "source": [
    "from loan_prediction import preprocessing as p\n",
    "import joblib"
   ]
  },
  {
   "cell_type": "code",
   "execution_count": 8,
   "id": "58733bdc",
   "metadata": {},
   "outputs": [],
   "source": [
    "def make_prediction(test):\n",
    "    test = p.fill_missing(test)\n",
    "    test = p.model_preprocessing(test)\n",
    "    model = joblib.load(\"../models/model\")\n",
    "    Final_prediction = model.predict(test)\n",
    "    return Final_prediction"
   ]
  },
  {
   "cell_type": "code",
   "execution_count": null,
   "id": "83cf1df9",
   "metadata": {},
   "outputs": [],
   "source": []
  }
 ],
 "metadata": {
  "kernelspec": {
   "display_name": "Python 3 (ipykernel)",
   "language": "python",
   "name": "python3"
  },
  "language_info": {
   "codemirror_mode": {
    "name": "ipython",
    "version": 3
   },
   "file_extension": ".py",
   "mimetype": "text/x-python",
   "name": "python",
   "nbconvert_exporter": "python",
   "pygments_lexer": "ipython3",
   "version": "3.9.11"
  }
 },
 "nbformat": 4,
 "nbformat_minor": 5
}
