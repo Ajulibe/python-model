{
 "cells": [
  {
   "cell_type": "code",
   "execution_count": 5,
   "id": "07192fea",
   "metadata": {},
   "outputs": [],
   "source": [
    "import pandas as pd\n",
    "import numpy as np\n",
    "import joblib\n",
    "from sklearn.model_selection import train_test_split\n",
    "from sklearn.preprocessing import OrdinalEncoder\n",
    "from sklearn.preprocessing import StandardScaler\n",
    "from sklearn.neighbors import KNeighborsClassifier\n",
    "from sklearn.metrics import accuracy_score\n"
   ]
  },
  {
   "cell_type": "code",
   "execution_count": 6,
   "id": "2f28e38d",
   "metadata": {},
   "outputs": [],
   "source": [
    "def model_preprocessing_train(feature):\n",
    "    feature = feature.replace({'Dependents':'3+'},'0')\n",
    "    feature['TotalIncome']=feature['ApplicantIncome']+feature['CoapplicantIncome']\n",
    "    feature=feature.drop(['Loan_ID','ApplicantIncome','CoapplicantIncome'],axis=1)\n",
    "    numerical_feature = get_numerical_features(feature)\n",
    "    categorical_feature = get_categorical_features(feature)\n",
    "    add_encoder(categorical_feature)\n",
    "    categorical_feature = encode(categorical_feature)\n",
    "    feature = concate_num_cat(categorical_feature, numerical_feature)\n",
    "    feature = feature_selection(feature)\n",
    "    add_scaler(feature)\n",
    "    feature = scale(feature)\n",
    "    return feature\n",
    "   "
   ]
  },
  {
   "cell_type": "code",
   "execution_count": 7,
   "id": "0f78c5d0",
   "metadata": {},
   "outputs": [],
   "source": [
    "def add_model(feature, target):\n",
    "    model=KNeighborsClassifier(n_neighbors=5)\n",
    "    model.fit(feature,target.values.ravel())\n",
    "    joblib.dump(model,'../models/model')"
   ]
  },
  {
   "cell_type": "code",
   "execution_count": 8,
   "id": "fc6287b8",
   "metadata": {},
   "outputs": [],
   "source": [
    "def scale(features):\n",
    "    scale_feature=joblib.load('../models/scaler')\n",
    "    features = scale_feature.transform(features)\n",
    "    return features"
   ]
  },
  {
   "cell_type": "code",
   "execution_count": 9,
   "id": "b2e76b87",
   "metadata": {},
   "outputs": [],
   "source": [
    "def add_scaler(feature):\n",
    "    scale= StandardScaler()\n",
    "    scale.fit(feature)\n",
    "    joblib.dump(scale,'../models/scaler')"
   ]
  },
  {
   "cell_type": "code",
   "execution_count": 10,
   "id": "ac782481",
   "metadata": {},
   "outputs": [],
   "source": [
    "def feature_selection(feature):\n",
    "    feature =feature[['Self_Employed','Property_Area','TotalIncome','Loan_Amount_Term','Credit_History']]\n",
    "    return feature"
   ]
  },
  {
   "cell_type": "code",
   "execution_count": 11,
   "id": "ae07dc04",
   "metadata": {},
   "outputs": [],
   "source": [
    "def concate_num_cat(categorical_feature, numerical_feature):\n",
    "    categorical_feature.index = numerical_feature.index\n",
    "    feature = pd.concat([categorical_feature, numerical_feature], axis=1)\n",
    "    return feature"
   ]
  },
  {
   "cell_type": "code",
   "execution_count": 12,
   "id": "400bf151",
   "metadata": {},
   "outputs": [],
   "source": [
    "def encode(categorical_feature):\n",
    "    encode=joblib.load('../models/encoder')\n",
    "    categorical_feature = encode.transform(categorical_feature)\n",
    "    categorical_feature = pd.DataFrame(categorical_feature, columns = ['Gender','Married','Education','Self_Employed','Property_Area'])\n",
    "    return categorical_feature"
   ]
  },
  {
   "cell_type": "code",
   "execution_count": 13,
   "id": "58fb903e",
   "metadata": {},
   "outputs": [],
   "source": [
    "def add_encoder(categorical_feature):\n",
    "    encode=OrdinalEncoder(handle_unknown='use_encoded_value',unknown_value=5)\n",
    "    encode.fit(categorical_feature)\n",
    "    joblib.dump(encode,'../models/encoder')"
   ]
  },
  {
   "cell_type": "code",
   "execution_count": 14,
   "id": "52d5aceb",
   "metadata": {},
   "outputs": [],
   "source": [
    "def get_numerical_features(feature):\n",
    "    numerical_feature=feature[['LoanAmount','TotalIncome','Dependents','Loan_Amount_Term','Credit_History']]\n",
    "    return numerical_feature"
   ]
  },
  {
   "cell_type": "code",
   "execution_count": 15,
   "id": "e46f4dce",
   "metadata": {},
   "outputs": [],
   "source": [
    "def get_categorical_features(feature):\n",
    "    categorical_feature=feature[['Gender','Married','Education','Self_Employed','Property_Area']]\n",
    "    return categorical_feature"
   ]
  },
  {
   "cell_type": "code",
   "execution_count": 16,
   "id": "b3c47467",
   "metadata": {},
   "outputs": [],
   "source": [
    "def fill_missing(features):\n",
    "    features['LoanAmount']=features['LoanAmount'].fillna(features['LoanAmount'].mean())\n",
    "    features['Self_Employed']=features['Self_Employed'].fillna('No')\n",
    "    features['Gender']=features['Gender'].fillna('Male')\n",
    "    features['Dependents']=features['Dependents'].fillna(\"0\")\n",
    "    features['Married']=features['Married'].fillna('yes')\n",
    "    features['Loan_Amount_Term']=features['Loan_Amount_Term'].fillna(\"360.0\")\n",
    "    features['Credit_History']=features['Credit_History'].fillna(\"1.0\")\n",
    "    return features"
   ]
  },
  {
   "cell_type": "code",
   "execution_count": 17,
   "id": "4ae49531",
   "metadata": {},
   "outputs": [],
   "source": [
    "def split_data(features, target):\n",
    "    features_train, features_test, target_train, target_test= train_test_split(features,target,random_state=42,test_size=0.33)\n",
    "    return features_train, features_test, target_train, target_test"
   ]
  },
  {
   "cell_type": "code",
   "execution_count": 18,
   "id": "1445cc55",
   "metadata": {},
   "outputs": [],
   "source": [
    "def model_preprocessing(feature):\n",
    "    feature = feature.replace({'Dependents':'3+'},'0')\n",
    "    feature['TotalIncome']=feature['ApplicantIncome']+features['CoapplicantIncome']\n",
    "    feature = feature.drop(['Loan_ID','ApplicantIncome','CoapplicantIncome'],axis=1)\n",
    "    numerical_feature = get_numerical_features(feature)\n",
    "    categorical_feature = get_categorical_features(feature)\n",
    "    categorical_feature = encode(categorical_feature)\n",
    "    feature = concate_num_cat(categorical_feature, numerical_feature)\n",
    "    feature = feature_selection(feature)\n",
    "    feature = scale(feature)\n",
    "    return feature"
   ]
  },
  {
   "cell_type": "code",
   "execution_count": 19,
   "id": "4b665892",
   "metadata": {},
   "outputs": [],
   "source": [
    "def compute_accuracy(target_test, target_prediction):\n",
    "    return accuracy_score(target_test, target_prediction)"
   ]
  },
  {
   "cell_type": "code",
   "execution_count": 20,
   "id": "1a7448c9",
   "metadata": {},
   "outputs": [],
   "source": [
    "def model_evaluation(feature_test, target_test):\n",
    "    feature_test = fill_missing(feature_test)\n",
    "    feature_test= model_preprocessing(feature_test)\n",
    "    Knnmodel=joblib.load('../models/model')\n",
    "    y_pred=Knnmodel.predict(feature_test)\n",
    "    target_prediction = pd.DataFrame(y_pred,columns=['Loan_status'])\n",
    "    rmse=compute_accuracy(target_test,target_prediction)\n",
    "    return rmse"
   ]
  },
  {
   "cell_type": "code",
   "execution_count": 21,
   "id": "53f323c7",
   "metadata": {},
   "outputs": [],
   "source": [
    "def build_model(features):\n",
    "    target=features[['Loan_Status']]\n",
    "    features = features.drop(['Loan_Status'],axis=1)\n",
    "    features_train, features_test, target_train, target_test = split_data(features, target)\n",
    "    features_train = fill_missing(features_train)\n",
    "    features_train = model_preprocessing_train(features_train)\n",
    "    add_model(features_train, target_train)\n",
    "    eva=model_evaluation(features_test,target_test)\n",
    "    return eva"
   ]
  },
  {
   "cell_type": "code",
   "execution_count": 22,
   "id": "d8b9c6ee",
   "metadata": {},
   "outputs": [
    {
     "name": "stdout",
     "output_type": "stream",
     "text": [
      "0.7635467980295566\n"
     ]
    }
   ],
   "source": [
    "features = pd.read_csv('../data/train.csv')\n",
    "a=build_model(features)\n",
    "print(a)"
   ]
  },
  {
   "cell_type": "code",
   "execution_count": 33,
   "id": "511b6d71",
   "metadata": {},
   "outputs": [],
   "source": []
  },
  {
   "cell_type": "code",
   "execution_count": 34,
   "id": "70aefb27",
   "metadata": {},
   "outputs": [],
   "source": [
    "test=pd.read_csv('../data/test.csv')\n",
    "y_pred=make_prediction(test)"
   ]
  },
  {
   "cell_type": "code",
   "execution_count": 35,
   "id": "c46c89d4",
   "metadata": {},
   "outputs": [
    {
     "data": {
      "text/plain": [
       "array(['Y', 'N', 'Y', 'Y', 'Y', 'Y', 'Y', 'N', 'Y', 'Y', 'N', 'Y', 'Y',\n",
       "       'N', 'Y', 'Y', 'N', 'Y', 'Y', 'Y', 'N', 'Y', 'Y', 'Y', 'Y', 'N',\n",
       "       'Y', 'Y', 'Y', 'N', 'Y', 'Y', 'Y', 'Y', 'Y', 'N', 'Y', 'Y', 'Y',\n",
       "       'Y', 'Y', 'Y', 'Y', 'Y', 'Y', 'Y', 'Y', 'Y', 'Y', 'Y', 'Y', 'Y',\n",
       "       'Y', 'Y', 'Y', 'N', 'Y', 'Y', 'N', 'Y', 'Y', 'Y', 'Y', 'N', 'Y',\n",
       "       'Y', 'N', 'N', 'Y', 'N', 'Y', 'Y', 'Y', 'Y', 'Y', 'Y', 'N', 'Y',\n",
       "       'Y', 'Y', 'N', 'N', 'N', 'Y', 'N', 'Y', 'Y', 'Y', 'Y', 'Y', 'Y',\n",
       "       'N', 'Y', 'Y', 'N', 'Y', 'Y', 'Y', 'Y', 'Y', 'Y', 'N', 'Y', 'Y',\n",
       "       'Y', 'Y', 'N', 'Y', 'Y', 'Y', 'Y', 'Y', 'N', 'Y', 'Y', 'Y', 'Y',\n",
       "       'N', 'N', 'N', 'Y', 'Y', 'Y', 'N', 'N', 'Y', 'N', 'Y', 'Y', 'Y',\n",
       "       'Y', 'Y', 'Y', 'Y', 'Y', 'Y', 'Y', 'Y', 'Y', 'Y', 'N', 'Y', 'N',\n",
       "       'Y', 'Y', 'Y', 'Y', 'N', 'Y', 'Y', 'Y', 'Y', 'Y', 'N', 'Y', 'Y',\n",
       "       'Y', 'Y', 'Y', 'Y', 'Y', 'N', 'Y', 'Y', 'Y', 'N', 'N', 'Y', 'N',\n",
       "       'Y', 'Y', 'Y', 'Y', 'N', 'N', 'Y', 'Y', 'N', 'Y', 'Y', 'Y', 'Y',\n",
       "       'Y', 'Y', 'Y', 'Y', 'Y', 'Y', 'N', 'Y', 'N', 'Y', 'N', 'N', 'Y',\n",
       "       'Y', 'N', 'Y', 'N', 'Y', 'Y', 'Y', 'Y', 'Y', 'Y', 'Y', 'Y', 'Y',\n",
       "       'Y', 'Y', 'N', 'N', 'Y', 'Y', 'Y', 'Y', 'Y', 'Y', 'Y', 'Y', 'N',\n",
       "       'Y', 'N', 'Y', 'N', 'Y', 'Y', 'Y', 'Y', 'N', 'Y', 'Y', 'Y', 'Y',\n",
       "       'Y', 'N', 'N', 'Y', 'Y', 'Y', 'Y', 'N', 'Y', 'N', 'Y', 'N', 'Y',\n",
       "       'Y', 'Y', 'Y', 'N', 'Y', 'Y', 'Y', 'N', 'N', 'Y', 'Y', 'Y', 'Y',\n",
       "       'Y', 'Y', 'Y', 'N', 'Y', 'Y', 'N', 'Y', 'N', 'Y', 'N', 'Y', 'Y',\n",
       "       'N', 'N', 'Y', 'Y', 'Y', 'N', 'Y', 'Y', 'Y', 'Y', 'Y', 'Y', 'Y',\n",
       "       'Y', 'Y', 'Y', 'Y', 'Y', 'Y', 'Y', 'N', 'Y', 'N', 'Y', 'Y', 'Y',\n",
       "       'Y', 'Y', 'N', 'Y', 'Y', 'Y', 'Y', 'Y', 'Y', 'Y', 'Y', 'Y', 'N',\n",
       "       'Y', 'Y', 'Y', 'Y', 'Y', 'N', 'Y', 'Y', 'Y', 'N', 'Y', 'Y', 'Y',\n",
       "       'N', 'Y', 'N', 'Y', 'Y', 'Y', 'Y', 'Y', 'Y', 'Y', 'Y', 'Y', 'Y',\n",
       "       'N', 'N', 'Y', 'Y', 'Y', 'Y', 'Y', 'Y', 'N', 'Y', 'N', 'Y', 'Y',\n",
       "       'Y', 'N', 'Y', 'N', 'N', 'Y', 'Y', 'Y', 'Y', 'Y', 'Y', 'Y', 'Y',\n",
       "       'Y', 'Y', 'Y'], dtype=object)"
      ]
     },
     "execution_count": 35,
     "metadata": {},
     "output_type": "execute_result"
    }
   ],
   "source": [
    "y_pred"
   ]
  },
  {
   "cell_type": "code",
   "execution_count": null,
   "id": "cb37e311",
   "metadata": {},
   "outputs": [],
   "source": []
  }
 ],
 "metadata": {
  "kernelspec": {
   "display_name": "Python 3 (ipykernel)",
   "language": "python",
   "name": "python3"
  },
  "language_info": {
   "codemirror_mode": {
    "name": "ipython",
    "version": 3
   },
   "file_extension": ".py",
   "mimetype": "text/x-python",
   "name": "python",
   "nbconvert_exporter": "python",
   "pygments_lexer": "ipython3",
   "version": "3.9.11"
  }
 },
 "nbformat": 4,
 "nbformat_minor": 5
}
